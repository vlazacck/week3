{
 "cells": [
  {
   "cell_type": "markdown",
   "metadata": {},
   "source": [
    "# A/B Hypothesis Testing "
   ]
  },
  {
   "cell_type": "code",
   "execution_count": 15,
   "metadata": {},
   "outputs": [],
   "source": [
    "# Import necessary libraries\n",
    "import pandas as pd\n",
    "import numpy as np\n",
    "\n"
   ]
  },
  {
   "cell_type": "code",
   "execution_count": 14,
   "metadata": {},
   "outputs": [
    {
     "name": "stdout",
     "output_type": "stream",
     "text": [
      "c:\\Users\\Hp\\Videos\\week3\\notebooks\n"
     ]
    }
   ],
   "source": [
    "#\n",
    "import os\n",
    "print(os.getcwd())\n"
   ]
  },
  {
   "cell_type": "code",
   "execution_count": null,
   "metadata": {},
   "outputs": [],
   "source": []
  },
  {
   "cell_type": "code",
   "execution_count": 1,
   "metadata": {},
   "outputs": [],
   "source": [
    "import sys\n",
    "sys.path.append(r\"C:\\Users\\Hp\\Videos\\week3\")\n",
    "\n",
    "from scripts.ab_hypothesis_testing import ABHypothesisTesting\n",
    "\n"
   ]
  },
  {
   "cell_type": "code",
   "execution_count": 11,
   "metadata": {},
   "outputs": [
    {
     "name": "stdout",
     "output_type": "stream",
     "text": [
      "Working directory: C:\\Users\\Hp\\Videos\\week3\n",
      "System path: ['C:\\\\ProgramData\\\\miniconda3\\\\python312.zip', 'C:\\\\ProgramData\\\\miniconda3\\\\DLLs', 'C:\\\\ProgramData\\\\miniconda3\\\\Lib', 'C:\\\\ProgramData\\\\miniconda3', 'c:\\\\Users\\\\Hp\\\\Videos\\\\week3\\\\venv', '', 'c:\\\\Users\\\\Hp\\\\Videos\\\\week3\\\\venv\\\\Lib\\\\site-packages', 'c:\\\\Users\\\\Hp\\\\Videos\\\\week3\\\\venv\\\\Lib\\\\site-packages\\\\win32', 'c:\\\\Users\\\\Hp\\\\Videos\\\\week3\\\\venv\\\\Lib\\\\site-packages\\\\win32\\\\lib', 'c:\\\\Users\\\\Hp\\\\Videos\\\\week3\\\\venv\\\\Lib\\\\site-packages\\\\Pythonwin', 'C:\\\\Users\\\\Hp\\\\Videos\\\\week3', 'C:\\\\Users\\\\Hp\\\\Videos\\\\week3']\n"
     ]
    }
   ],
   "source": [
    "import os\n",
    "import sys\n",
    "\n",
    "# Ensure the correct working directory\n",
    "os.chdir(r\"C:\\Users\\Hp\\Videos\\week3\")\n",
    "print(\"Working directory:\", os.getcwd())\n",
    "\n",
    "# Append the project path to system path\n",
    "sys.path.append(r\"C:\\Users\\Hp\\Videos\\week3\")\n",
    "print(\"System path:\", sys.path)\n"
   ]
  },
  {
   "cell_type": "code",
   "execution_count": null,
   "metadata": {},
   "outputs": [],
   "source": []
  },
  {
   "cell_type": "code",
   "execution_count": 2,
   "metadata": {},
   "outputs": [],
   "source": [
    "from scripts.ab_hypothesis_testing import ABHypothesisTesting"
   ]
  },
  {
   "cell_type": "code",
   "execution_count": 6,
   "metadata": {},
   "outputs": [],
   "source": [
    "import pandas as pd\n",
    "df = pd.read_csv('../data/insurance_data.csv')\n",
    "\n"
   ]
  },
  {
   "cell_type": "code",
   "execution_count": 7,
   "metadata": {},
   "outputs": [],
   "source": [
    "# Initialize the hypothesis testing class\n",
    "hypothesis_testing = ABHypothesisTesting(df)\n"
   ]
  },
  {
   "cell_type": "code",
   "execution_count": null,
   "metadata": {},
   "outputs": [],
   "source": []
  },
  {
   "cell_type": "code",
   "execution_count": 6,
   "metadata": {},
   "outputs": [
    {
     "name": "stdout",
     "output_type": "stream",
     "text": [
      "Unnamed: 0     0\n",
      "Province       0\n",
      "Zipcode        0\n",
      "Gender         0\n",
      "Total_Claim    0\n",
      "Premium        0\n",
      "dtype: int64\n",
      "<class 'pandas.core.frame.DataFrame'>\n",
      "RangeIndex: 1000 entries, 0 to 999\n",
      "Data columns (total 6 columns):\n",
      " #   Column       Non-Null Count  Dtype  \n",
      "---  ------       --------------  -----  \n",
      " 0   Unnamed: 0   1000 non-null   int64  \n",
      " 1   Province     1000 non-null   object \n",
      " 2   Zipcode      1000 non-null   int64  \n",
      " 3   Gender       1000 non-null   object \n",
      " 4   Total_Claim  1000 non-null   float64\n",
      " 5   Premium      1000 non-null   float64\n",
      "dtypes: float64(2), int64(2), object(2)\n",
      "memory usage: 47.0+ KB\n",
      "None\n"
     ]
    }
   ],
   "source": [
    "# Check for missing values\n",
    "print(df.isnull().sum())\n",
    "\n",
    "# Check data types\n",
    "print(df.info())\n"
   ]
  },
  {
   "cell_type": "code",
   "execution_count": 8,
   "metadata": {},
   "outputs": [
    {
     "name": "stdout",
     "output_type": "stream",
     "text": [
      "  Province  Zipcode  Gender  Total_Claim      Premium\n",
      "0        C     1003  Female   652.740226   898.493109\n",
      "1        A     1003  Female  1159.389368  1040.563548\n",
      "2        C     1003    Male   729.641413  1137.593249\n",
      "3        C     1003  Female   253.524198   764.332164\n",
      "4        A     1001    Male   938.056933  1349.828367\n"
     ]
    }
   ],
   "source": [
    "df.drop(columns=['Unnamed: 0'], inplace=True)\n",
    "print(df.head())\n"
   ]
  },
  {
   "cell_type": "markdown",
   "metadata": {},
   "source": [
    "## Risk Differences Across Provinces\n",
    "\n",
    "### Analysis Objective\n",
    "This test examines whether there are significant differences in **risk levels** (measured by `Total Claims`) across provinces. The goal is to understand how risk varies regionally, which can inform province-specific policies or risk management strategies.\n",
    "\n",
    "### Hypotheses\n",
    "- **Null Hypothesis (H₀):** No risk differences across provinces.\n",
    "- **Alternative Hypothesis (H₁):** Risk differences exist across provinces."
   ]
  },
  {
   "cell_type": "code",
   "execution_count": 9,
   "metadata": {},
   "outputs": [
    {
     "data": {
      "text/plain": [
       "{'Test': 'ANOVA',\n",
       " 'Null Hypothesis': 'No risk differences across provinces',\n",
       " 'F-Statistic': np.float64(8.626482565483611),\n",
       " 'p-Value': np.float64(0.0001930246778774567),\n",
       " 'Reject Null': np.True_}"
      ]
     },
     "execution_count": 9,
     "metadata": {},
     "output_type": "execute_result"
    }
   ],
   "source": [
    "# Test if there are risk differences across provinces\n",
    "province_test_result = hypothesis_testing.test_risk_across_provinces()\n",
    "province_test_result\n"
   ]
  },
  {
   "cell_type": "markdown",
   "metadata": {},
   "source": [
    "\n",
    "### Results\n",
    "- **Test Type:** ANOVA (Analysis of Variance)\n",
    "  - Compares the mean `Total Claims` across multiple provinces.\n",
    "- **F-Statistic:** 8.626\n",
    "  - Indicates that the variance in `Total Claims` between provinces is significantly greater than the variance within provinces.\n",
    "- **p-Value:** 0.000193\n",
    "  - This value is much smaller than the common significance level of 0.05, suggesting the observed differences are highly unlikely to be due to random chance.\n",
    "- **Decision:** Reject the null hypothesis (H₀).\n",
    "\n",
    "### Conclusion\n",
    "There is strong evidence to conclude that **significant risk differences exist across provinces**.\n",
    "\n",
    "### Implications\n",
    "1. **Risk Management:** Provinces with higher average claims may require stricter risk mitigation measures, while lower-risk provinces could benefit from premium reductions.\n",
    "2. **Pricing Strategy:** Develop province-specific premium structures to reflect the risk profile of each province.\n",
    "3. **Further Analysis:** Investigate the factors contributing to risk differences, such as demographic, geographic, or economic factors.\n",
    "\n"
   ]
  },
  {
   "cell_type": "markdown",
   "metadata": {},
   "source": [
    "## Risk Differences Between Zip Codes\n",
    "\n",
    "### Analysis Objective\n",
    "This test examines whether there are significant differences in **risk levels** (measured by `Total Claims`) between zip codes. The goal is to evaluate how risk varies geographically at a finer level, providing insights for localized strategies.\n",
    "\n",
    "### Hypotheses\n",
    "- **Null Hypothesis (H₀):** No risk differences between zip codes.\n",
    "- **Alternative Hypothesis (H₁):** Risk differences exist between zip codes."
   ]
  },
  {
   "cell_type": "code",
   "execution_count": 8,
   "metadata": {},
   "outputs": [
    {
     "data": {
      "text/plain": [
       "{'Test': 'ANOVA',\n",
       " 'Null Hypothesis': 'No risk differences between zip codes',\n",
       " 'F-Statistic': 1.6365345978982229,\n",
       " 'p-Value': 0.1951758838795849,\n",
       " 'Reject Null': False}"
      ]
     },
     "execution_count": 8,
     "metadata": {},
     "output_type": "execute_result"
    }
   ],
   "source": [
    "# Test if there are risk differences between zip codes\n",
    "zipcode_test_result = hypothesis_testing.test_risk_between_zipcodes()\n",
    "zipcode_test_result\n"
   ]
  },
  {
   "cell_type": "code",
   "execution_count": null,
   "metadata": {},
   "outputs": [],
   "source": []
  },
  {
   "cell_type": "markdown",
   "metadata": {},
   "source": [
    "### Results\n",
    "- **Test Type:** ANOVA (Analysis of Variance)\n",
    "  - Compares the mean `Total Claims` across multiple zip codes.\n",
    "- **F-Statistic:** 1.637\n",
    "  - Suggests a relatively low variance in `Total Claims` between zip codes compared to within zip codes.\n",
    "- **p-Value:** 0.195\n",
    "  - This value is greater than the common significance level of 0.05, indicating that the observed differences are likely due to random chance.\n",
    "- **Decision:** Fail to reject the null hypothesis (H₀).\n",
    "\n",
    "### Conclusion\n",
    "There is **insufficient evidence** to conclude that significant risk differences exist between zip codes. Any observed differences in `Total Claims` are likely due to random variation.\n",
    "\n",
    "### Implications\n",
    "1. **Uniform Risk Strategy:** Since risk levels appear consistent across zip codes, there may be no need for differentiated risk management or pricing strategies based on zip codes.\n",
    "2. **Further Exploration:** Investigate other variables (e.g., demographics, policy types) that may reveal meaningful differences between zip codes.\n",
    "3. **Combination Analysis:** Consider analyzing zip code risk differences alongside other factors, such as region or gender, for a more comprehensive understanding.\n",
    "\n",
    "### Next Steps\n",
    "- Visualize `Total Claims` by zip code to confirm the absence of meaningful trends.\n",
    "- Conduct subgroup analyses (e.g., zip code and gender combinations) to uncover any hidden patterns.\n"
   ]
  },
  {
   "cell_type": "markdown",
   "metadata": {},
   "source": [
    "## Margin Differences Between Zip Codes\n",
    "\n",
    "### Analysis Objective\n",
    "This test examines whether **profit margins** (calculated as `Premium - Total Claims`) differ significantly across zip codes. Profit margin reflects the profitability of policies in each zip code, making this analysis critical for identifying underperforming or highly profitable areas.\n",
    "\n",
    "### Key Difference from Risk Differences Test\n",
    "- **Test Risk Between Zip Codes:**\n",
    "  - Focuses on analyzing **Total Claims** to determine if there are significant risk differences between zip codes.\n",
    "  - Guides **risk management** strategies by identifying regions with higher or lower claims.\n",
    "- **Test Margin Differences Between Zip Codes:**\n",
    "  - Focuses on analyzing **Profit Margins** (`Premium - Total Claims`) to determine if there are significant profitability differences between zip codes.\n",
    "  - Guides **pricing and profitability optimization** by highlighting regions that are overperforming or underperforming.\n",
    "\n",
    "### Hypotheses\n",
    "- **Null Hypothesis (H₀):** No significant margin differences between zip codes.\n",
    "- **Alternative Hypothesis (H₁):** Significant margin differences exist between zip codes."
   ]
  },
  {
   "cell_type": "code",
   "execution_count": 9,
   "metadata": {},
   "outputs": [
    {
     "data": {
      "text/plain": [
       "{'Test': 'ANOVA',\n",
       " 'Null Hypothesis': 'No significant margin differences between zip codes',\n",
       " 'F-Statistic': 14.131693475190742,\n",
       " 'p-Value': 8.872893794662912e-07,\n",
       " 'Reject Null': True}"
      ]
     },
     "execution_count": 9,
     "metadata": {},
     "output_type": "execute_result"
    }
   ],
   "source": [
    "# Test if there are significant margin differences between zip codes\n",
    "margin_test_result = hypothesis_testing.test_margin_difference_between_zipcodes()\n",
    "margin_test_result\n"
   ]
  },
  {
   "cell_type": "markdown",
   "metadata": {},
   "source": [
    "### Results\n",
    "- **F-Statistic:** 14.132\n",
    "  - Indicates a large variance in profit margins across zip codes compared to within-group variance.\n",
    "- **p-Value:** 8.87e-07\n",
    "  - This value is far below the common significance level of 0.05, indicating that the observed differences are highly unlikely to be due to random chance.\n",
    "- **Decision:** Reject the null hypothesis (H₀).\n",
    "\n",
    "### Conclusion\n",
    "There is strong evidence to conclude that **significant profit margin differences exist between zip codes**.\n",
    "\n",
    "### Implications\n",
    "1. **Profit Optimization:** Tailor strategies to specific zip codes based on their profitability. For example:\n",
    "   - Focus on enhancing profitability in underperforming zip codes.\n",
    "   - Sustain or expand in highly profitable zip codes.\n",
    "2. **Pricing Adjustments:** Evaluate zip codes with lower profit margins and consider revising premiums or reducing costs.\n",
    "3. **Further Exploration:** Investigate factors driving these differences, such as demographics, policy mix, or claim frequency.\n",
    "\n"
   ]
  },
  {
   "cell_type": "markdown",
   "metadata": {},
   "source": [
    "## Interpretation: Risk Differences Between Genders\n",
    "\n",
    "### Analysis Objective\n",
    "This test examines whether there are significant differences in **risk levels** (measured by `Total Claims`) between genders. Understanding risk differences by gender can help insurers design gender-specific policies or adjust premiums based on claims data.\n",
    "\n",
    "### Hypotheses\n",
    "- **Null Hypothesis (H₀):** No significant risk differences between women and men.\n",
    "- **Alternative Hypothesis (H₁):** Significant risk differences exist between women and men."
   ]
  },
  {
   "cell_type": "code",
   "execution_count": 10,
   "metadata": {},
   "outputs": [],
   "source": [
    "# Test if there are significant risk differences between genders\n",
    "gender_test_result = hypothesis_testing.test_risk_difference_gender()\n",
    "gender_test_result\n"
   ]
  },
  {
   "cell_type": "code",
   "execution_count": 8,
   "metadata": {},
   "outputs": [
    {
     "data": {
      "text/plain": [
       "{'Test': 'T-Test',\n",
       " 'Null Hypothesis': 'No significant risk differences between women and men',\n",
       " 'T-Statistic': 3.5693545588418787,\n",
       " 'p-Value': 0.00037512158401762627,\n",
       " 'Reject Null': True}"
      ]
     },
     "execution_count": 8,
     "metadata": {},
     "output_type": "execute_result"
    }
   ],
   "source": [
    "{'Test': 'T-Test',\n",
    " 'Null Hypothesis': 'No significant risk differences between women and men',\n",
    " 'T-Statistic': 3.5693545588418787,\n",
    " 'p-Value': 0.00037512158401762627,\n",
    " 'Reject Null': True}"
   ]
  },
  {
   "cell_type": "markdown",
   "metadata": {},
   "source": [
    "### Results\n",
    "- **Test Type:** T-Test (Independent Samples)\n",
    "  - Compares the mean `Total Claims` between two independent groups: women and men.\n",
    "- **T-Statistic:** 3.569\n",
    "  - Indicates the magnitude of the difference between the means relative to the variability within groups.\n",
    "- **p-Value:** 0.000375\n",
    "  - This value is much smaller than the common significance level of 0.05, suggesting that the observed differences are highly unlikely to be due to random chance.\n",
    "- **Decision:** Reject the null hypothesis (H₀).\n",
    "\n",
    "### Conclusion\n",
    "There is strong evidence to conclude that **significant risk differences exist between women and men**.\n",
    "\n",
    "### Implications\n",
    "1. **Gender-Specific Strategies:**\n",
    "   - If men or women exhibit consistently higher claims, tailor policies, premiums, or risk mitigation strategies accordingly.\n",
    "2. **Premium Adjustments:**\n",
    "   - For the gender with lower average claims, consider offering reduced premiums to attract more clients.\n",
    "3. **Further Analysis:**\n",
    "   - Investigate underlying factors contributing to the differences, such as claim frequency, type of coverage, or demographic influences.\n"
   ]
  },
  {
   "cell_type": "code",
   "execution_count": 14,
   "metadata": {},
   "outputs": [],
   "source": [
    "import pandas as pd\n",
    "data = pd.read_csv('../data/insurance_data.csv')\n",
    "\n"
   ]
  },
  {
   "cell_type": "code",
   "execution_count": 15,
   "metadata": {},
   "outputs": [
    {
     "name": "stdout",
     "output_type": "stream",
     "text": [
      "T-Statistic: 3.5693545588418787\n",
      "p-Value: 0.00037512158401762627\n",
      "Conclusion: Reject the null hypothesis (Significant differences exist).\n"
     ]
    }
   ],
   "source": [
    "from scipy.stats import ttest_ind\n",
    "\n",
    "# Gender-based segmentation\n",
    "group_male = data[data['Gender'] == 'Male']['Total_Claim']\n",
    "group_female = data[data['Gender'] == 'Female']['Total_Claim']\n",
    "\n",
    "\n",
    "\n",
    "\n",
    "\n",
    "# Perform T-Test\n",
    "t_stat, p_value = ttest_ind(group_male, group_female, equal_var=False)  # Use equal_var=False for unequal sample sizes\n",
    "\n",
    "# Output results\n",
    "print(\"T-Statistic:\", t_stat)\n",
    "print(\"p-Value:\", p_value)\n",
    "\n",
    "# Decision\n",
    "if p_value < 0.05:\n",
    "    print(\"Conclusion: Reject the null hypothesis (Significant differences exist).\")\n",
    "else:\n",
    "    print(\"Conclusion: Fail to reject the null hypothesis (No significant differences).\")\n"
   ]
  },
  {
   "cell_type": "markdown",
   "metadata": {},
   "source": [
    "## Hypothesis Testing Summary\n",
    "\n",
    "The following table summarizes the results of the hypotheses tested for risk differences, margins, and gender-based analysis:\n",
    "\n",
    "| Hypothesis                                | Test Type | p-Value     | Decision (Reject/Fail to Reject H₀) | Key Takeaway                     |\n",
    "|-------------------------------------------|-----------|-------------|------------------------------------|-----------------------------------|\n",
    "| Risk differences across provinces         | ANOVA     | 0.000193    | Reject                             | Significant differences exist     |\n",
    "| Risk differences between zip codes        | ANOVA     | 0.195       | Fail to Reject                     | No significant differences found  |\n",
    "| Margin differences between zip codes      | ANOVA     | 8.87e-07    | Reject                             | Significant differences exist     |\n",
    "| Risk differences between genders          | T-Test    | 0.000375    | Reject                             | Significant differences between males and females |\n",
    "\n",
    "### Conclusion\n",
    "\n",
    "- **Risk Differences Across Provinces**: There are significant risk differences across provinces, as confirmed by the ANOVA test.\n",
    "- **Risk Differences Between Zip Codes**: No significant risk differences between zip codes were found.\n",
    "- **Margin Differences Between Zip Codes**: Significant margin differences exist between zip codes, suggesting possible pricing adjustments.\n",
    "- **Gender-Based Risk Differences**: There are significant differences in total claims between males and females.\n",
    "\n"
   ]
  },
  {
   "cell_type": "code",
   "execution_count": 16,
   "metadata": {},
   "outputs": [
    {
     "data": {
      "image/png": "[encoded data removed]",
      "text/plain": [
       "<Figure size 1000x600 with 1 Axes>"
      ]
     },
     "metadata": {},
     "output_type": "display_data"
    }
   ],
   "source": [
    "import matplotlib.pyplot as plt\n",
    "import seaborn as sns\n",
    "\n",
    "# Boxplot for Total Claims by Province\n",
    "plt.figure(figsize=(10, 6))\n",
    "sns.boxplot(x='Province', y='Total_Claim', data=data)\n",
    "plt.title('Total Claims by Province')\n",
    "plt.xlabel('Province')\n",
    "plt.ylabel('Total Claims')\n",
    "plt.xticks(rotation=45)\n",
    "plt.tight_layout()\n",
    "plt.show()\n"
   ]
  },
  {
   "cell_type": "code",
   "execution_count": 17,
   "metadata": {},
   "outputs": [
    {
     "data": {
      "image/png": "[encoded data removed]",
      "text/plain": [
       "<Figure size 800x600 with 1 Axes>"
      ]
     },
     "metadata": {},
     "output_type": "display_data"
    }
   ],
   "source": [
    "# Boxplot for Total Claims by Gender\n",
    "plt.figure(figsize=(8, 6))\n",
    "sns.boxplot(x='Gender', y='Total_Claim', data=data)\n",
    "plt.title('Total Claims by Gender')\n",
    "plt.xlabel('Gender')\n",
    "plt.ylabel('Total Claims')\n",
    "plt.tight_layout()\n",
    "plt.show()\n"
   ]
  },
  {
   "cell_type": "code",
   "execution_count": null,
   "metadata": {},
   "outputs": [
    {
     "data": {
      "image/png": "[encoded data removed]",
      "text/plain": [
       "<Figure size 1200x800 with 1 Axes>"
      ]
     },
     "metadata": {},
     "output_type": "display_data"
    }
   ],
   "source": [
    "# Boxplot for Total Claims by Gender and Province\n",
    "plt.figure(figsize=(12, 8))\n",
    "sns.boxplot(x='Province', y='Total_Claim', hue='Gender', data=data)\n",
    "plt.title('Total Claims by Gender and Province')\n",
    "plt.xlabel('Province')\n",
    "plt.ylabel('Total Claims')\n",
    "plt.xticks(rotation=45)\n",
    "plt.tight_layout()\n",
    "plt.show()\n"
   ]
  }
 ],
 "metadata": {
  "kernelspec": {
   "display_name": "venv",
   "language": "python",
   "name": "python3"
  },
  "language_info": {
   "codemirror_mode": {
    "name": "ipython",
    "version": 3
   },
   "file_extension": ".py",
   "mimetype": "text/x-python",
   "name": "python",
   "nbconvert_exporter": "python",
   "pygments_lexer": "ipython3",
   "version": "3.12.3"
  }
 },
 "nbformat": 4,
 "nbformat_minor": 2
}
