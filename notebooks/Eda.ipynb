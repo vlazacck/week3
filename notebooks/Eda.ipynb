{
 "cells": [
  {
   "cell_type": "code",
   "execution_count": 3,
   "metadata": {},
   "outputs": [],
   "source": [
    "import pandas as pd\n",
    "import numpy as np\n",
    "import matplotlib.pyplot as plt\n",
    "import seaborn as sns"
   ]
  },
  {
   "cell_type": "code",
   "execution_count": 4,
   "metadata": {},
   "outputs": [
    {
     "name": "stderr",
     "output_type": "stream",
     "text": [
      "C:\\Users\\Hp\\AppData\\Local\\Temp\\ipykernel_13104\\2389244569.py:4: DtypeWarning: Columns (32,37) have mixed types. Specify dtype option on import or set low_memory=False.\n",
      "  data = pd.read_csv(data_path)\n"
     ]
    },
    {
     "name": "stdout",
     "output_type": "stream",
     "text": [
      "Dataset loaded successfully.\n"
     ]
    }
   ],
   "source": [
    "data_path = r\"C:\\\\Users\\\\Hp\\\\Music\\\\Projectss\\\\ml\\\\MachineLearningRating_v3.csv\"\n",
    "\n",
    "try:\n",
    "    data = pd.read_csv(data_path)\n",
    "    print(\"Dataset loaded successfully.\")\n",
    "except FileNotFoundError:\n",
    "    print(f\"File not found. Please check the file path: {data_path}\")"
   ]
  },
  {
   "cell_type": "code",
   "execution_count": 5,
   "metadata": {},
   "outputs": [
    {
     "name": "stderr",
     "output_type": "stream",
     "text": [
      "C:\\Users\\Hp\\AppData\\Local\\Temp\\ipykernel_13104\\2950970291.py:9: DtypeWarning: Columns (32,37) have mixed types. Specify dtype option on import or set low_memory=False.\n",
      "  data = pd.read_csv(data_path)\n"
     ]
    },
    {
     "name": "stdout",
     "output_type": "stream",
     "text": [
      "Dataset loaded successfully.\n",
      "The dataset contains 1000098 rows and 52 columns.\n",
      "Dataset summary saved to outputs\\dataset_summary.txt\n"
     ]
    }
   ],
   "source": [
    "import os\n",
    "import pandas as pd\n",
    "\n",
    "# Specify the correct file path\n",
    "data_path = r\"C:\\Users\\Hp\\Music\\Projectss\\ml\\MachineLearningRating_v3.csv\"\n",
    "\n",
    "# Load the dataset\n",
    "try:\n",
    "    data = pd.read_csv(data_path)\n",
    "    print(\"Dataset loaded successfully.\")\n",
    "    print(f\"The dataset contains {data.shape[0]} rows and {data.shape[1]} columns.\")\n",
    "except Exception as e:\n",
    "    print(f\"Error loading dataset: {e}\")\n",
    "\n",
    "# Create an 'outputs' folder if it doesn't exist\n",
    "output_folder = \"outputs\"\n",
    "if not os.path.exists(output_folder):\n",
    "    os.makedirs(output_folder)\n",
    "\n",
    "# Summarize the structure of the dataset\n",
    "if not data.empty:\n",
    "    summary = {\n",
    "        \"Number of Rows\": data.shape[0],\n",
    "        \"Number of Columns\": data.shape[1],\n",
    "        \"Column Names\": list(data.columns),\n",
    "        \"Column Data Types\": data.dtypes.to_dict(),\n",
    "        \"Missing Values\": data.isnull().sum().to_dict(),\n",
    "        \"Duplicate Rows\": data.duplicated().sum()\n",
    "    }\n",
    "\n",
    "    # Save the summary to a file in the outputs folder\n",
    "    summary_file_path = os.path.join(output_folder, \"dataset_summary.txt\")\n",
    "    with open(summary_file_path, \"w\") as file:\n",
    "        for key, value in summary.items():\n",
    "            file.write(f\"{key}: {value}\\n\")\n",
    "\n",
    "    print(f\"Dataset summary saved to {summary_file_path}\")\n",
    "else:\n",
    "    print(\"The dataset is empty. Please check the file content.\")\n"
   ]
  },
  {
   "cell_type": "code",
   "execution_count": null,
   "metadata": {},
   "outputs": [],
   "source": [
    "# Import necessary libraries\n",
    "import pandas as pd\n",
    "import os\n",
    "\n",
    "# Ensure output directory exists\n",
    "output_dir = \"../outputs\"\n",
    "os.makedirs(output_dir, exist_ok=True)\n",
    "\n",
    "# Load the dataset\n",
    "data = pd.read_csv(r'C:\\Users\\Hp\\Music\\Projectss\\ml\\MachineLearningRating_v3.csv')\n",
    "\n",
    "# Display basic information about the dataset\n",
    "data_info = data.info(buf=None)\n",
    "\n",
    "# Display the first few rows of the dataset\n",
    "data_head = data.head()\n",
    "\n",
    "# 1. Descriptive Statistics for Numerical Features\n",
    "numerical_cols = data.select_dtypes(include=['int64', 'float64']).columns\n",
    "descriptive_stats = data[numerical_cols].describe()\n",
    "\n",
    "# Variability (Standard Deviation and Variance)\n",
    "variability = pd.DataFrame({\n",
    "    'Standard Deviation': data[numerical_cols].std(),\n",
    "    'Variance': data[numerical_cols].var()\n",
    "})\n",
    "\n",
    "# 2. Data Structure Review\n",
    "data_types = data.dtypes\n",
    "\n",
    "# 3. Data Quality Assessment - Missing Values\n",
    "missing_values = data.isnull().sum()\n",
    "missing_percentage = (missing_values / len(data)) * 100\n",
    "missing_summary = pd.DataFrame({'Missing Values': missing_values, 'Percentage (%)': missing_percentage})\n",
    "missing_summary_filtered = missing_summary[missing_summary['Missing Values'] > 0]\n",
    "\n",
    "# Save outputs to files\n",
    "descriptive_stats.to_csv(os.path.join(output_dir, \"descriptive_statistics.csv\"))\n",
    "variability.to_csv(os.path.join(output_dir, \"variability.csv\"))\n",
    "missing_summary_filtered.to_csv(os.path.join(output_dir, \"missing_values_summary.csv\"))\n",
    "\n",
    "# Save a summary text file\n",
    "summary_file_path = os.path.join(output_dir, \"datasummary.txt\")\n",
    "with open(summary_file_path, \"w\") as f:\n",
    "    f.write(\"Data Summary:\\n\")\n",
    "    f.write(f\"Number of Rows: {len(data)}\\n\")\n",
    "    f.write(f\"Number of Columns: {len(data.columns)}\\n\")\n",
    "    f.write(f\"Column Names: {list(data.columns)}\\n\\n\")\n",
    "    f.write(\"Descriptive Statistics:\\n\")\n",
    "    f.write(descriptive_stats.to_string())\n",
    "    f.write(\"\\n\\nVariability (Standard Deviation and Variance):\\n\")\n",
    "    f.write(variability.to_string())\n",
    "    f.write(\"\\n\\nMissing Values Summary:\\n\")\n",
    "    f.write(missing_summary_filtered.to_string())\n",
    "\n",
    "print(f\"Outputs saved in {output_dir}\")\n",
    "\n"
   ]
  },
  {
   "cell_type": "code",
   "execution_count": null,
   "metadata": {},
   "outputs": [],
   "source": [
    "# Import necessary libraries\n",
    "import matplotlib.pyplot as plt\n",
    "import seaborn as sns\n",
    "import os\n",
    "\n",
    "# Ensure output directory exists for plots\n",
    "plot_dir = \"../outputs/plots\"\n",
    "os.makedirs(plot_dir, exist_ok=True)\n",
    "\n",
    "# Numerical columns: Plot histograms\n",
    "numerical_cols = data.select_dtypes(include=['int64', 'float64']).columns\n",
    "\n",
    "for col in numerical_cols:\n",
    "    plt.figure(figsize=(8, 6))\n",
    "    sns.histplot(data[col], kde=True, bins=30, color='blue')\n",
    "    plt.title(f'Distribution of {col}', fontsize=14)\n",
    "    plt.xlabel(col, fontsize=12)\n",
    "    plt.ylabel('Frequency', fontsize=12)\n",
    "    plt.grid(True)\n",
    "    plt.tight_layout()\n",
    "    plt.savefig(os.path.join(plot_dir, f\"{col}_distribution.png\"))\n",
    "    plt.close()\n",
    "\n",
    "# Categorical columns: Plot bar charts for top 10 categories\n",
    "categorical_cols = data.select_dtypes(include=['object', 'bool']).columns\n",
    "\n",
    "for col in categorical_cols:\n",
    "    plt.figure(figsize=(8, 6))\n",
    "    value_counts = data[col].value_counts().head(10)  # Top 10 categories\n",
    "    sns.barplot(x=value_counts.index, y=value_counts.values, palette='viridis')\n",
    "    plt.title(f'Bar Chart of {col}', fontsize=14)\n",
    "    plt.xlabel(col, fontsize=12)\n",
    "    plt.ylabel('Frequency', fontsize=12)\n",
    "    plt.xticks(rotation=45, fontsize=10)\n",
    "    plt.grid(True)\n",
    "    plt.tight_layout()\n",
    "    plt.savefig(os.path.join(plot_dir, f\"{col}_barchart.png\"))\n",
    "    plt.close()\n",
    "\n",
    "print(f\"Plots saved in {plot_dir}\")\n"
   ]
  },
  {
   "cell_type": "code",
   "execution_count": null,
   "metadata": {},
   "outputs": [],
   "source": []
  }
 ],
 "metadata": {
  "kernelspec": {
   "display_name": "venv",
   "language": "python",
   "name": "python3"
  },
  "language_info": {
   "codemirror_mode": {
    "name": "ipython",
    "version": 3
   },
   "file_extension": ".py",
   "mimetype": "text/x-python",
   "name": "python",
   "nbconvert_exporter": "python",
   "pygments_lexer": "ipython3",
   "version": "3.12.3"
  }
 },
 "nbformat": 4,
 "nbformat_minor": 2
}
